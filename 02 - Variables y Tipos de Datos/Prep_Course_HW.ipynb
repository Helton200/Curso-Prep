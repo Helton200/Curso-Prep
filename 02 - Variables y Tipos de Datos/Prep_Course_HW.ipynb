{
 "cells": [
  {
   "attachments": {},
   "cell_type": "markdown",
   "metadata": {},
   "source": [
    "Solucion HW 1\n"
   ]
  },
  {
   "cell_type": "code",
   "execution_count": 1,
   "metadata": {},
   "outputs": [],
   "source": [
    "#1) Crear una variable que contenga un elemento del conjunto de números enteros y luego imprimir por pantalla\n",
    "\n",
    "n1 = 5\n"
   ]
  },
  {
   "cell_type": "code",
   "execution_count": 4,
   "metadata": {},
   "outputs": [
    {
     "data": {
      "text/plain": [
       "float"
      ]
     },
     "execution_count": 4,
     "metadata": {},
     "output_type": "execute_result"
    }
   ],
   "source": [
    "#2) Imprimir el tipo de dato de la constante 8.5\n",
    "\n",
    "type(8.5)"
   ]
  },
  {
   "cell_type": "code",
   "execution_count": 5,
   "metadata": {},
   "outputs": [
    {
     "data": {
      "text/plain": [
       "int"
      ]
     },
     "execution_count": 5,
     "metadata": {},
     "output_type": "execute_result"
    }
   ],
   "source": [
    "#3) Imprimir el tipo de dato de la variable creada en el punto 1\n",
    "\n",
    "type(n1)"
   ]
  },
  {
   "cell_type": "code",
   "execution_count": 6,
   "metadata": {},
   "outputs": [],
   "source": [
    "#4) Crear una variable que contenga tu nombre\n",
    "\n",
    "Name = 'Helton'"
   ]
  },
  {
   "cell_type": "code",
   "execution_count": 7,
   "metadata": {},
   "outputs": [],
   "source": [
    "#5) Crear una variable que contenga un número complejo\n",
    "\n",
    "N_Complex = 5 + 5j"
   ]
  },
  {
   "cell_type": "code",
   "execution_count": 8,
   "metadata": {},
   "outputs": [
    {
     "data": {
      "text/plain": [
       "complex"
      ]
     },
     "execution_count": 8,
     "metadata": {},
     "output_type": "execute_result"
    }
   ],
   "source": [
    "#6) Mostrar el tipo de dato de la variable creada en el punto 5\n",
    "\n",
    "type(N_Complex)"
   ]
  },
  {
   "cell_type": "code",
   "execution_count": 9,
   "metadata": {},
   "outputs": [],
   "source": [
    "#7) Crear una variable que contenga el valor del número Pi redondeado a 4 decimales\n",
    "\n",
    "pi = 3.1416"
   ]
  },
  {
   "cell_type": "code",
   "execution_count": 10,
   "metadata": {},
   "outputs": [],
   "source": [
    "#8) Crear una variable que contenga el valor 'True' y otra que contenga el valor True. ¿Se trata de lo mismo?\n",
    "\n",
    "Var1 = 'true'\n",
    "Var2 = True"
   ]
  },
  {
   "cell_type": "code",
   "execution_count": 11,
   "metadata": {},
   "outputs": [
    {
     "name": "stdout",
     "output_type": "stream",
     "text": [
      "El primer dato corresponde a una variable tipo:  <class 'str'> El siguiente dato es una variable tipo:  True\n"
     ]
    }
   ],
   "source": [
    "#9) Imprimir el tipo de dato correspondientes a las variables creadas en el punto 8\n",
    "\n",
    "print('El primer dato corresponde a una variable tipo: ',type(Var1),\"El siguiente dato es una variable tipo: \",Var2)"
   ]
  },
  {
   "cell_type": "code",
   "execution_count": 12,
   "metadata": {},
   "outputs": [],
   "source": [
    "#10) Asignar a una variable, la suma de un número entero y otro decimal\n",
    "\n",
    "Sum = 5 + 5.5"
   ]
  },
  {
   "cell_type": "code",
   "execution_count": 18,
   "metadata": {},
   "outputs": [
    {
     "name": "stdout",
     "output_type": "stream",
     "text": [
      "(9+15j)\n"
     ]
    }
   ],
   "source": [
    "#11) Realizar una operación de suma de números complejos\n",
    "\n",
    "Sum_J = 4 + 5j\n",
    "Sum_J2 = 5 + 10j\n",
    "print(Sum_J+Sum_J2)"
   ]
  },
  {
   "cell_type": "code",
   "execution_count": 14,
   "metadata": {},
   "outputs": [],
   "source": [
    "#12) Realizar una operación de suma de un número real y otro complejo\n",
    "\n",
    "Sum_RJ = 5 + 10j\n"
   ]
  },
  {
   "cell_type": "code",
   "execution_count": 15,
   "metadata": {},
   "outputs": [],
   "source": [
    "#13) Realizar una operación de multiplicación\n",
    "\n",
    "Mult = 5 * 5"
   ]
  },
  {
   "cell_type": "code",
   "execution_count": 17,
   "metadata": {},
   "outputs": [
    {
     "name": "stdout",
     "output_type": "stream",
     "text": [
      "256\n"
     ]
    }
   ],
   "source": [
    "#14) Mostrar el resultado de elevar 2 a la octava potencia\n",
    "\n",
    "Elev = 2**8\n",
    "\n",
    "print (Elev)"
   ]
  },
  {
   "cell_type": "code",
   "execution_count": 19,
   "metadata": {},
   "outputs": [
    {
     "name": "stdout",
     "output_type": "stream",
     "text": [
      "6.75\n"
     ]
    }
   ],
   "source": [
    "#15) Obtener el cociente de la división de 27 entre 4 en una variable y luego mostrarla\n",
    "\n",
    "Cosc = 27/4 \n",
    "\n",
    "print(Cosc)"
   ]
  },
  {
   "cell_type": "code",
   "execution_count": 24,
   "metadata": {},
   "outputs": [
    {
     "name": "stdout",
     "output_type": "stream",
     "text": [
      "6\n"
     ]
    },
    {
     "data": {
      "text/plain": [
       "int"
      ]
     },
     "execution_count": 24,
     "metadata": {},
     "output_type": "execute_result"
    }
   ],
   "source": [
    "#16) De la división anterior solamente mostrar la parte entera\n",
    "Entero = int(Cosc)\n",
    "print(Entero)\n",
    "type(Entero)"
   ]
  },
  {
   "cell_type": "code",
   "execution_count": 27,
   "metadata": {},
   "outputs": [
    {
     "name": "stdout",
     "output_type": "stream",
     "text": [
      "3\n"
     ]
    }
   ],
   "source": [
    "#17) De la división de 27 entre 4 mostrar solamente el resto\n",
    "resto = 27 % 4 \n",
    "print(resto)"
   ]
  },
  {
   "cell_type": "code",
   "execution_count": 30,
   "metadata": {},
   "outputs": [
    {
     "name": "stdout",
     "output_type": "stream",
     "text": [
      "27\n"
     ]
    }
   ],
   "source": [
    "#18) Utilizando como operandos el número 4 y los resultados obtenidos en los puntos 16 y 17. Obtener 27 como resultado\n",
    "\n",
    "Operador = 4 * Entero+resto\n",
    "print(Operador)"
   ]
  },
  {
   "cell_type": "code",
   "execution_count": 2,
   "metadata": {},
   "outputs": [
    {
     "name": "stdout",
     "output_type": "stream",
     "text": [
      "Buenos Aires\n"
     ]
    }
   ],
   "source": [
    "#19) Utilizar el operador \"+\" en una operación donde intervengan solo variables alfanuméricas\n",
    "\n",
    "Gree = 'Buenos '\n",
    "Gree2 = 'Aires'\n",
    "print(Gree+Gree2)\n"
   ]
  },
  {
   "cell_type": "code",
   "execution_count": 5,
   "metadata": {},
   "outputs": [
    {
     "data": {
      "text/plain": [
       "False"
      ]
     },
     "execution_count": 5,
     "metadata": {},
     "output_type": "execute_result"
    }
   ],
   "source": [
    "#20) Evaluar si \"2\" es igual a 2. ¿Por qué ocurre eso?\n",
    "\n",
    "Test1 = 2\n",
    "Test2= '2'\n",
    "Test1 == Test2"
   ]
  },
  {
   "cell_type": "code",
   "execution_count": 12,
   "metadata": {},
   "outputs": [
    {
     "data": {
      "text/plain": [
       "True"
      ]
     },
     "execution_count": 12,
     "metadata": {},
     "output_type": "execute_result"
    }
   ],
   "source": [
    "#21) Utilizar las funciones de cambio de tipo de dato, para que la validación del punto 20 resulte verdadera\n",
    "\n",
    "Test1 == int(Test2)\n"
   ]
  },
  {
   "cell_type": "code",
   "execution_count": 14,
   "metadata": {},
   "outputs": [
    {
     "data": {
      "text/plain": [
       "float"
      ]
     },
     "execution_count": 14,
     "metadata": {},
     "output_type": "execute_result"
    }
   ],
   "source": [
    "#22) ¿Por qué arroja error el siguiente cambio de tipo de datos? a = float('3,8')\n",
    "\n",
    "a = float('3.8')\n",
    "type(a)"
   ]
  },
  {
   "cell_type": "code",
   "execution_count": 16,
   "metadata": {},
   "outputs": [
    {
     "name": "stdout",
     "output_type": "stream",
     "text": [
      "-2\n"
     ]
    }
   ],
   "source": [
    "#23) Crear una variable con el valor 3, y utilizar el operador '-=' para modificar su contenido\n",
    "\n",
    "Tres = 3\n",
    "\n",
    "Tres -= 5\n",
    "\n",
    "print (Tres)"
   ]
  },
  {
   "cell_type": "code",
   "execution_count": 23,
   "metadata": {},
   "outputs": [
    {
     "data": {
      "text/plain": [
       "4"
      ]
     },
     "execution_count": 23,
     "metadata": {},
     "output_type": "execute_result"
    }
   ],
   "source": [
    "#24) Realizar la operacion 1 << 2 ¿Por qué da ese resultado? ¿Qué es el sistema de numeración binario?\n",
    "\n",
    "1 << 2"
   ]
  },
  {
   "cell_type": "code",
   "execution_count": 25,
   "metadata": {},
   "outputs": [
    {
     "name": "stdout",
     "output_type": "stream",
     "text": [
      "4\n"
     ]
    }
   ],
   "source": [
    "#25) Realizar la operación 2 + '2' ¿Por qué no está permitido? ¿Si los dos operandos serían del mismo tipo, siempre arrojaría el mismo resultado?\n",
    "\n",
    "print (2 + int('2'))\n"
   ]
  },
  {
   "cell_type": "code",
   "execution_count": 28,
   "metadata": {},
   "outputs": [
    {
     "name": "stdout",
     "output_type": "stream",
     "text": [
      "Usted Compro:  Manzana  A un valor de  50  Pesos\n"
     ]
    }
   ],
   "source": [
    "#26) Realizar una operación válida entre valores de tipo entero y string\n",
    "\n",
    "Manzana = 50\n",
    "Productos = 'Manzana'\n",
    "\n",
    "print (\"Usted Compro: \",Productos,\" A un valor de \",Manzana, \" Pesos\")"
   ]
  },
  {
   "cell_type": "code",
   "execution_count": null,
   "metadata": {},
   "outputs": [],
   "source": []
  }
 ],
 "metadata": {
  "kernelspec": {
   "display_name": "Python 3",
   "language": "python",
   "name": "python3"
  },
  "language_info": {
   "codemirror_mode": {
    "name": "ipython",
    "version": 3
   },
   "file_extension": ".py",
   "mimetype": "text/x-python",
   "name": "python",
   "nbconvert_exporter": "python",
   "pygments_lexer": "ipython3",
   "version": "3.10.6"
  },
  "orig_nbformat": 4
 },
 "nbformat": 4,
 "nbformat_minor": 2
}
